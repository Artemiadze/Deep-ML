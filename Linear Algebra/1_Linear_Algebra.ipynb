{
 "cells": [
  {
   "cell_type": "markdown",
   "id": "e8ce60ca",
   "metadata": {},
   "source": [
    "# 1. Linear Algebra"
   ]
  },
  {
   "cell_type": "markdown",
   "id": "c273a980",
   "metadata": {},
   "source": [
    "## Calculate Mean by Row or Column\n",
    "Write a Python function that calculates the mean of a matrix either by row or by column, based on a given mode. The function should take a matrix (list of lists) and a mode ('row' or 'column') as input and return a list of means according to the specified mode.\n",
    "\n",
    "**Input**:\n",
    "```python\n",
    "matrix = [[1, 2, 3], [4, 5, 6], [7, 8, 9]], mode = 'column'\n",
    "```\n",
    "\n",
    "**Output**:\n",
    "```python\n",
    "[4.0, 5.0, 6.0]\n",
    "```"
   ]
  },
  {
   "cell_type": "code",
   "execution_count": 31,
   "id": "2a2f5ea7",
   "metadata": {},
   "outputs": [],
   "source": [
    "def calculate_matrix_mean(matrix: list[list[float]], mode: str) -> list[float]:\n",
    "    result = []\n",
    "    if mode == 'column':\n",
    "        for j in range(len(matrix[0])):\n",
    "            sum_col = 0\n",
    "            for i in range(len(matrix)):\n",
    "                sum_col += matrix[i][j]\n",
    "            result.append(sum_col / len(matrix))\n",
    "    else:\n",
    "        for i in range(len(matrix)):\n",
    "            result.append(sum(matrix[i])/len(matrix))\n",
    "    return result"
   ]
  },
  {
   "cell_type": "code",
   "execution_count": 34,
   "id": "0223637c",
   "metadata": {},
   "outputs": [
    {
     "name": "stdout",
     "output_type": "stream",
     "text": [
      "[4.0, 5.0, 6.0]\n",
      "[2.0, 5.0, 8.0]\n"
     ]
    }
   ],
   "source": [
    "print(calculate_matrix_mean([[1, 2, 3], [4, 5, 6], [7, 8, 9]], 'column'))\n",
    "print(calculate_matrix_mean([[1, 2, 3], [4, 5, 6], [7, 8, 9]], 'row'))"
   ]
  }
 ],
 "metadata": {
  "kernelspec": {
   "display_name": "Python 3",
   "language": "python",
   "name": "python3"
  },
  "language_info": {
   "codemirror_mode": {
    "name": "ipython",
    "version": 3
   },
   "file_extension": ".py",
   "mimetype": "text/x-python",
   "name": "python",
   "nbconvert_exporter": "python",
   "pygments_lexer": "ipython3",
   "version": "3.13.1"
  }
 },
 "nbformat": 4,
 "nbformat_minor": 5
}
